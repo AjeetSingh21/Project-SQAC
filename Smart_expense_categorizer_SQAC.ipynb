{
  "nbformat": 4,
  "nbformat_minor": 0,
  "metadata": {
    "colab": {
      "provenance": []
    },
    "kernelspec": {
      "name": "python3",
      "display_name": "Python 3"
    },
    "language_info": {
      "name": "python"
    }
  },
  "cells": [
    {
      "cell_type": "code",
      "execution_count": 114,
      "metadata": {
        "id": "bgrIYPDFjogq"
      },
      "outputs": [],
      "source": [
        "import pandas as pd\n",
        "from sklearn.model_selection import train_test_split\n",
        "from sklearn.linear_model import LogisticRegression\n",
        "from sklearn.metrics import accuracy_score\n",
        "from sklearn.feature_extraction.text import TfidfVectorizer\n"
      ]
    },
    {
      "cell_type": "code",
      "source": [
        "ds = pd.read_csv(\"Transaction1.csv\")\n",
        "# print(ds)\n",
        "# print(ds.describe())\n",
        "# print(ds.columns)\n",
        "# print(ds)\n"
      ],
      "metadata": {
        "id": "RpIHji32wOej"
      },
      "execution_count": 115,
      "outputs": []
    },
    {
      "cell_type": "code",
      "source": [
        "X = ds['text']\n",
        "# print(X)\n",
        "y = ds['label']\n",
        "# print(y)\n"
      ],
      "metadata": {
        "id": "7RbBq5lDwZgB"
      },
      "execution_count": 116,
      "outputs": []
    },
    {
      "cell_type": "code",
      "source": [
        "X_train,X_test,y_train,y_test = train_test_split(X,y,test_size=0.3,random_state=42)\n",
        "\n"
      ],
      "metadata": {
        "id": "Vp4wm-K3ybwn"
      },
      "execution_count": 117,
      "outputs": []
    },
    {
      "cell_type": "code",
      "source": [
        "model = LogisticRegression(max_iter=500)\n",
        "vect = TfidfVectorizer(max_features=1000, stop_words='english')\n",
        "X_train_tfidf = vect.fit_transform(X_train)\n",
        "X_test_tfidf = vect.transform(X_test)\n",
        "model.fit(X_train_tfidf,y_train)\n",
        "y_pred = model.predict(X_test_tfidf)\n"
      ],
      "metadata": {
        "id": "2P58yNc5yojy"
      },
      "execution_count": 122,
      "outputs": []
    },
    {
      "cell_type": "code",
      "source": [
        "print(\"Accuracy is: \", accuracy_score(y_test,y_pred))\n",
        "# print(\"Prediction: \",y_pred)"
      ],
      "metadata": {
        "colab": {
          "base_uri": "https://localhost:8080/"
        },
        "id": "sxR0_9iFzOaG",
        "outputId": "15746066-77ac-44ea-9de9-4e87ca8af8f8"
      },
      "execution_count": 121,
      "outputs": [
        {
          "output_type": "stream",
          "name": "stdout",
          "text": [
            "Accuracy is:  1.0\n"
          ]
        }
      ]
    }
  ]
}